{
 "cells": [
  {
   "cell_type": "code",
   "execution_count": 1,
   "metadata": {},
   "outputs": [],
   "source": [
    "grid = [[1,1,1,1], [1,1,1,2], [1,1,2,1], [1,1,1,1]]"
   ]
  },
  {
   "cell_type": "code",
   "execution_count": 28,
   "metadata": {},
   "outputs": [
    {
     "data": {
      "text/plain": [
       "<map at 0x1fad1dcd148>"
      ]
     },
     "execution_count": 28,
     "metadata": {},
     "output_type": "execute_result"
    }
   ],
   "source": [
    "map(str,grid)"
   ]
  },
  {
   "cell_type": "code",
   "execution_count": null,
   "metadata": {},
   "outputs": [],
   "source": [
    "def solve(grid, pos, order, cache, num):\n",
    "    \n",
    "    "
   ]
  },
  {
   "cell_type": "code",
   "execution_count": null,
   "metadata": {},
   "outputs": [],
   "source": [
    "class solve:\n",
    "    def __init__(self, grid, ):\n",
    "        self.grid = grid\n",
    "        self.result = set()\n",
    "        self.cache = [[[set()]*6]*16]\n",
    "        \n",
    "    def transf(col, row):\n",
    "        return (col*4)+row\n",
    "    \n",
    "    def count(self, pos, order, num):\n",
    "        if order == 7:\n",
    "            self.result.add(num)\n",
    "        else :\n",
    "            "
   ]
  },
  {
   "cell_type": "code",
   "execution_count": 23,
   "metadata": {},
   "outputs": [],
   "source": [
    "a = "
   ]
  },
  {
   "cell_type": "code",
   "execution_count": 24,
   "metadata": {},
   "outputs": [
    {
     "data": {
      "text/plain": [
       "[[set(), set(), set(), set(), set(), set()],\n",
       " [set(), set(), set(), set(), set(), set()],\n",
       " [set(), set(), set(), set(), set(), set()],\n",
       " [set(), set(), set(), set(), set(), set()],\n",
       " [set(), set(), set(), set(), set(), set()],\n",
       " [set(), set(), set(), set(), set(), set()],\n",
       " [set(), set(), set(), set(), set(), set()],\n",
       " [set(), set(), set(), set(), set(), set()],\n",
       " [set(), set(), set(), set(), set(), set()],\n",
       " [set(), set(), set(), set(), set(), set()],\n",
       " [set(), set(), set(), set(), set(), set()],\n",
       " [set(), set(), set(), set(), set(), set()],\n",
       " [set(), set(), set(), set(), set(), set()],\n",
       " [set(), set(), set(), set(), set(), set()],\n",
       " [set(), set(), set(), set(), set(), set()],\n",
       " [set(), set(), set(), set(), set(), set()]]"
      ]
     },
     "execution_count": 24,
     "metadata": {},
     "output_type": "execute_result"
    }
   ],
   "source": [
    "a"
   ]
  },
  {
   "cell_type": "code",
   "execution_count": 25,
   "metadata": {},
   "outputs": [],
   "source": [
    "a[15][1].add(10)"
   ]
  },
  {
   "cell_type": "code",
   "execution_count": 26,
   "metadata": {},
   "outputs": [
    {
     "data": {
      "text/plain": [
       "[[set(), set(), set(), set(), set(), set()],\n",
       " [set(), set(), set(), set(), set(), set()],\n",
       " [set(), set(), set(), set(), set(), set()],\n",
       " [set(), set(), set(), set(), set(), set()],\n",
       " [set(), set(), set(), set(), set(), set()],\n",
       " [set(), set(), set(), set(), set(), set()],\n",
       " [set(), set(), set(), set(), set(), set()],\n",
       " [set(), set(), set(), set(), set(), set()],\n",
       " [set(), set(), set(), set(), set(), set()],\n",
       " [set(), set(), set(), set(), set(), set()],\n",
       " [set(), set(), set(), set(), set(), set()],\n",
       " [set(), set(), set(), set(), set(), set()],\n",
       " [set(), set(), set(), set(), set(), set()],\n",
       " [set(), set(), set(), set(), set(), set()],\n",
       " [set(), set(), set(), set(), set(), set()],\n",
       " [set(), {10}, set(), set(), set(), set()]]"
      ]
     },
     "execution_count": 26,
     "metadata": {},
     "output_type": "execute_result"
    }
   ],
   "source": [
    "a"
   ]
  },
  {
   "cell_type": "code",
   "execution_count": 30,
   "metadata": {},
   "outputs": [],
   "source": [
    "import sys\n",
    "sys.stdin = open(\"sample_input.txt\", \"r\")"
   ]
  },
  {
   "cell_type": "code",
   "execution_count": 34,
   "metadata": {},
   "outputs": [
    {
     "name": "stdout",
     "output_type": "stream",
     "text": [
      "1 1 1 1\n",
      "1 1 1 1\n",
      "1 1 1 1\n",
      "1 1 1 1\n"
     ]
    }
   ],
   "source": [
    "grid = [list(map(str, input().split())) for _ in range(4)]"
   ]
  },
  {
   "cell_type": "code",
   "execution_count": 35,
   "metadata": {},
   "outputs": [
    {
     "data": {
      "text/plain": [
       "[['1', '1', '1', '1'],\n",
       " ['1', '1', '1', '1'],\n",
       " ['1', '1', '1', '1'],\n",
       " ['1', '1', '1', '1']]"
      ]
     },
     "execution_count": 35,
     "metadata": {},
     "output_type": "execute_result"
    }
   ],
   "source": [
    "grid"
   ]
  },
  {
   "cell_type": "code",
   "execution_count": null,
   "metadata": {},
   "outputs": [],
   "source": [
    "# 기본 제공코드는 임의 수정해도 관계 없습니다. 단, 입출력 포맷 주의\n",
    "# 아래 표준 입출력 예제 필요시 참고하세요.\n",
    "\n",
    "# 표준 입력 예제\n",
    "'''\n",
    "a = int(input())                        정수형 변수 1개 입력 받는 예제\n",
    "b, c = map(int, input().split())        정수형 변수 2개 입력 받는 예제 \n",
    "d = float(input())                      실수형 변수 1개 입력 받는 예제\n",
    "e, f, g = map(float, input().split())   실수형 변수 3개 입력 받는 예제\n",
    "h = input()                             문자열 변수 1개 입력 받는 예제\n",
    "'''\n",
    "\n",
    "# 표준 출력 예제\n",
    "'''\n",
    "a, b = 6, 3\n",
    "c, d, e = 1.0, 2.5, 3.4\n",
    "f = \"ABC\"\n",
    "print(a)                                정수형 변수 1개 출력하는 예제\n",
    "print(b, end = \" \")                     줄바꿈 하지 않고 정수형 변수와 공백을 출력하는 예제\n",
    "print(c, d, e)                          실수형 변수 3개 출력하는 예제\n",
    "print(f)                                문자열 1개 출력하는 예제\n",
    "'''\n",
    "\n",
    "#import sys\n",
    "\n",
    "\n",
    "'''\n",
    "      아래의 구문은 input.txt 를 read only 형식으로 연 후,\n",
    "      앞으로 표준 입력(키보드) 대신 input.txt 파일로부터 읽어오겠다는 의미의 코드입니다.\n",
    "      여러분이 작성한 코드를 테스트 할 때, 편의를 위해서 input.txt에 입력을 저장한 후,\n",
    "      아래 구문을 이용하면 이후 입력을 수행할 때 표준 입력 대신 파일로부터 입력을 받아올 수 있습니다.\n",
    "\n",
    "      따라서 테스트를 수행할 때에는 아래 주석을 지우고 이 구문을 사용하셔도 좋습니다.\n",
    "      아래 구문을 사용하기 위해서는 import sys가 필요합니다.\n",
    "\n",
    "      단, 채점을 위해 코드를 제출하실 때에는 반드시 아래 구문을 지우거나 주석 처리 하셔야 합니다.\n",
    "'''\n",
    "#sys.stdin = open(\"input.txt\", \"r\")\n",
    "\n",
    "class Solve:\n",
    "    def __init__(self, inp):\n",
    "        self.grid = inp\n",
    "        self.result = set()\n",
    "        self.cache = [[set() for _ in range(6)] for _ in range(16)]\n",
    "\n",
    "    @staticmethod\n",
    "    def transf(col, row):\n",
    "        return (col * 4) + row\n",
    "\n",
    "    @staticmethod\n",
    "    def rev_transf(num):\n",
    "        return num // 4, num % 4\n",
    "\n",
    "    @staticmethod\n",
    "    def move(col, row):\n",
    "        res = []\n",
    "        if col<3:\n",
    "            res.append((col+1, row))\n",
    "        if col>1:\n",
    "            res.append((col-1, row))\n",
    "        if row<3:\n",
    "            res.append((col, row+1))\n",
    "        if row>1:\n",
    "            res.append((col, row-1))\n",
    "        return res\n",
    "\n",
    "    def count(self, pos, order, num):\n",
    "        tp = self.transf(pos[0], pos[1])\n",
    "        col, row = pos\n",
    "        num += self.grid[col][row]\n",
    "        if order == 6:\n",
    "            self.result.add(num)\n",
    "        else:\n",
    "            if num in self.cache[tp][order]:\n",
    "                return\n",
    "\n",
    "            for next_pos in self.move(col, row):\n",
    "                self.count(next_pos, order+1, num)\n",
    "\n",
    "    def run(self):\n",
    "        for i in range(16):\n",
    "            self.count(self.rev_transf(i), 0, '')\n",
    "        return len(self.result)\n",
    "\n",
    "\n",
    "T = int(input())\n",
    "# 여러개의 테스트 케이스가 주어지므로, 각각을 처리합니다.\n",
    "for test_case in range(1, T + 1):\n",
    "    # ///////////////////////////////////////////////////////////////////////////////////\n",
    "    grid = [list(map(str, input().split())) for _ in range(4)]\n",
    "    sol = Solve(grid)\n",
    "    print(sol.run())\n",
    "    # ///////////////////////////////////////////////////////////////////////////////////"
   ]
  },
  {
   "cell_type": "code",
   "execution_count": null,
   "metadata": {},
   "outputs": [],
   "source": [
    "# 기본 제공코드는 임의 수정해도 관계 없습니다. 단, 입출력 포맷 주의\n",
    "# 아래 표준 입출력 예제 필요시 참고하세요.\n",
    "\n",
    "# 표준 입력 예제\n",
    "'''\n",
    "a = int(input())                        정수형 변수 1개 입력 받는 예제\n",
    "b, c = map(int, input().split())        정수형 변수 2개 입력 받는 예제 \n",
    "d = float(input())                      실수형 변수 1개 입력 받는 예제\n",
    "e, f, g = map(float, input().split())   실수형 변수 3개 입력 받는 예제\n",
    "h = input()                             문자열 변수 1개 입력 받는 예제\n",
    "'''\n",
    "\n",
    "# 표준 출력 예제\n",
    "'''\n",
    "a, b = 6, 3\n",
    "c, d, e = 1.0, 2.5, 3.4\n",
    "f = \"ABC\"\n",
    "print(a)                                정수형 변수 1개 출력하는 예제\n",
    "print(b, end = \" \")                     줄바꿈 하지 않고 정수형 변수와 공백을 출력하는 예제\n",
    "print(c, d, e)                          실수형 변수 3개 출력하는 예제\n",
    "print(f)                                문자열 1개 출력하는 예제\n",
    "'''\n",
    "\n",
    "#import sys\n",
    "\n",
    "\n",
    "'''\n",
    "      아래의 구문은 input.txt 를 read only 형식으로 연 후,\n",
    "      앞으로 표준 입력(키보드) 대신 input.txt 파일로부터 읽어오겠다는 의미의 코드입니다.\n",
    "      여러분이 작성한 코드를 테스트 할 때, 편의를 위해서 input.txt에 입력을 저장한 후,\n",
    "      아래 구문을 이용하면 이후 입력을 수행할 때 표준 입력 대신 파일로부터 입력을 받아올 수 있습니다.\n",
    "\n",
    "      따라서 테스트를 수행할 때에는 아래 주석을 지우고 이 구문을 사용하셔도 좋습니다.\n",
    "      아래 구문을 사용하기 위해서는 import sys가 필요합니다.\n",
    "\n",
    "      단, 채점을 위해 코드를 제출하실 때에는 반드시 아래 구문을 지우거나 주석 처리 하셔야 합니다.\n",
    "'''\n",
    "#sys.stdin = open(\"input.txt\", \"r\")\n",
    "\n",
    "class Solve:\n",
    "    def __init__(self, inp):\n",
    "        self.grid = inp\n",
    "        self.result = set()\n",
    "        self.cache = [[set() for _ in range(6)] for _ in range(16)]\n",
    "\n",
    "    @staticmethod\n",
    "    def transf(col, row):\n",
    "        return (col * 4) + row\n",
    "\n",
    "    @staticmethod\n",
    "    def rev_transf(num):\n",
    "        return num // 4, num % 4\n",
    "\n",
    "    @staticmethod\n",
    "    def move(col, row):\n",
    "        res = []\n",
    "        if col<3:\n",
    "            res.append((col+1, row))\n",
    "        if col>1:\n",
    "            res.append((col-1, row))\n",
    "        if row<3:\n",
    "            res.append((col, row+1))\n",
    "        if row>1:\n",
    "            res.append((col, row-1))\n",
    "        return res\n",
    "\n",
    "    def count(self, pos, order, num):\n",
    "        tp = self.transf(pos[0], pos[1])\n",
    "        col, row = pos\n",
    "        num += self.grid[col][row]\n",
    "        if order == 6:\n",
    "            self.result.add(num)\n",
    "        else:\n",
    "            if num in self.cache[tp][order]:\n",
    "                return\n",
    "\n",
    "            for next_pos in self.move(col, row):\n",
    "                self.count(next_pos, order+1, num)\n",
    "\n",
    "    def run(self):\n",
    "        for i in range(16):\n",
    "            self.count(self.rev_transf(i), 0, '')\n",
    "        return len(self.result)\n",
    "\n",
    "\n",
    "T = int(input())\n",
    "# 여러개의 테스트 케이스가 주어지므로, 각각을 처리합니다.\n",
    "for test_case in range(1, T + 1):\n",
    "    # ///////////////////////////////////////////////////////////////////////////////////\n",
    "\tgrid = [list(map(str, input().split())) for _ in range(4)]\n",
    "    sol = Solve(grid)\n",
    "    print(sol.run())\n",
    "    # ///////////////////////////////////////////////////////////////////////////////////\n"
   ]
  }
 ],
 "metadata": {
  "kernelspec": {
   "display_name": "Python 3",
   "language": "python",
   "name": "python3"
  },
  "language_info": {
   "codemirror_mode": {
    "name": "ipython",
    "version": 3
   },
   "file_extension": ".py",
   "mimetype": "text/x-python",
   "name": "python",
   "nbconvert_exporter": "python",
   "pygments_lexer": "ipython3",
   "version": "3.7.4"
  }
 },
 "nbformat": 4,
 "nbformat_minor": 2
}
