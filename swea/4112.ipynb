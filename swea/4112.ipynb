{
 "cells": [
  {
   "cell_type": "code",
   "execution_count": 18,
   "metadata": {},
   "outputs": [],
   "source": [
    "def pos(num):\n",
    "    floor = 0\n",
    "    while(1):\n",
    "        floor += 1\n",
    "        num -= floor\n",
    "        if num <= 0 :\n",
    "            break\n",
    "    room = num + floor\n",
    "    return floor, room\n",
    "\n",
    "def solve(cur, tar):\n",
    "    if cur == tar :\n",
    "        return 0\n",
    "    start = pos(min(cur, tar))\n",
    "    tar = pos(max(cur, tar))\n",
    "    if start[1] > tar[1]:\n",
    "        return tar[0] - start[0] + start[1] - tar[1]\n",
    "    elif start[0] - start[1] > tar[0] - tar[1]:\n",
    "        return tar[1] - start[1]\n",
    "    else :\n",
    "        return tar[0] - start[0]"
   ]
  },
  {
   "cell_type": "code",
   "execution_count": 21,
   "metadata": {},
   "outputs": [
    {
     "data": {
      "text/plain": [
       "(2, 2)"
      ]
     },
     "execution_count": 21,
     "metadata": {},
     "output_type": "execute_result"
    }
   ],
   "source": [
    "pos(3)"
   ]
  },
  {
   "cell_type": "code",
   "execution_count": 10,
   "metadata": {},
   "outputs": [
    {
     "data": {
      "text/plain": [
       "(45, 44)"
      ]
     },
     "execution_count": 10,
     "metadata": {},
     "output_type": "execute_result"
    }
   ],
   "source": [
    "pos(1034)"
   ]
  },
  {
   "cell_type": "code",
   "execution_count": 16,
   "metadata": {},
   "outputs": [
    {
     "data": {
      "text/plain": [
       "35"
      ]
     },
     "execution_count": 16,
     "metadata": {},
     "output_type": "execute_result"
    }
   ],
   "source": [
    "solve(100,1034)"
   ]
  },
  {
   "cell_type": "code",
   "execution_count": null,
   "metadata": {},
   "outputs": [],
   "source": []
  }
 ],
 "metadata": {
  "kernelspec": {
   "display_name": "Python 3",
   "language": "python",
   "name": "python3"
  },
  "language_info": {
   "codemirror_mode": {
    "name": "ipython",
    "version": 3
   },
   "file_extension": ".py",
   "mimetype": "text/x-python",
   "name": "python",
   "nbconvert_exporter": "python",
   "pygments_lexer": "ipython3",
   "version": "3.7.4"
  }
 },
 "nbformat": 4,
 "nbformat_minor": 2
}
